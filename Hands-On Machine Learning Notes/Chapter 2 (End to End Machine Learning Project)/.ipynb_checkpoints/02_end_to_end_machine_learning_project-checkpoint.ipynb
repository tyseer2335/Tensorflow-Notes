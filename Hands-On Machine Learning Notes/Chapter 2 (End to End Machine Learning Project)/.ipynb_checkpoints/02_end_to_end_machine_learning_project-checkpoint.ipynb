{
 "cells": [
  {
   "cell_type": "markdown",
   "id": "40a9b604-6467-4c6c-aaec-63ce29b4babf",
   "metadata": {},
   "source": [
    "##### Import important libraries"
   ]
  },
  {
   "cell_type": "code",
   "execution_count": null,
   "id": "48433ebf-12dc-4138-8689-3795e99773c7",
   "metadata": {},
   "outputs": [],
   "source": [
    "import sys  \n",
    "import sklearn"
   ]
  },
  {
   "cell_type": "code",
   "execution_count": null,
   "id": "e7b435ad-8dc6-4efc-ad37-331e251455b1",
   "metadata": {},
   "outputs": [],
   "source": []
  }
 ],
 "metadata": {
  "kernelspec": {
   "display_name": "Python (env)",
   "language": "python",
   "name": "env"
  },
  "language_info": {
   "codemirror_mode": {
    "name": "ipython",
    "version": 3
   },
   "file_extension": ".py",
   "mimetype": "text/x-python",
   "name": "python",
   "nbconvert_exporter": "python",
   "pygments_lexer": "ipython3",
   "version": "3.9.19"
  }
 },
 "nbformat": 4,
 "nbformat_minor": 5
}
